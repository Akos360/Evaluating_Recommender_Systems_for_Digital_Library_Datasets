{
 "cells": [
  {
   "cell_type": "markdown",
   "id": "b4da85cb-f96a-4395-9fa1-ad39bc3ace16",
   "metadata": {},
   "source": [
    "# Evaluating Recommender Systems for Digital Library Datasets"
   ]
  },
  {
   "cell_type": "code",
   "execution_count": 25,
   "id": "2143a6a7-0379-4324-9a6b-cf1ff7eb4180",
   "metadata": {},
   "outputs": [],
   "source": [
    "import pandas as pd\n",
    "from IPython.display import display, HTML"
   ]
  },
  {
   "cell_type": "code",
   "execution_count": 29,
   "id": "81c820d9-4ec4-4dee-8193-0a1bdfa71ad6",
   "metadata": {},
   "outputs": [
    {
     "data": {
      "text/html": [
       "\n",
       "<div style=\"display: flex; justify-content: space-around;\">\n",
       "    <div><table border=\"1\" class=\"dataframe\">\n",
       "  <thead>\n",
       "    <tr style=\"text-align: right;\">\n",
       "      <th>No.</th>\n",
       "      <th>Feature Extraction Methods</th>\n",
       "    </tr>\n",
       "  </thead>\n",
       "  <tbody>\n",
       "    <tr>\n",
       "      <td>1</td>\n",
       "      <td>TF-IDF</td>\n",
       "    </tr>\n",
       "    <tr>\n",
       "      <td>2</td>\n",
       "      <td>LSA</td>\n",
       "    </tr>\n",
       "    <tr>\n",
       "      <td>3</td>\n",
       "      <td>Word2Vec</td>\n",
       "    </tr>\n",
       "    <tr>\n",
       "      <td>4</td>\n",
       "      <td>Doc2Vec</td>\n",
       "    </tr>\n",
       "    <tr>\n",
       "      <td>5</td>\n",
       "      <td>BERT</td>\n",
       "    </tr>\n",
       "    <tr>\n",
       "      <td>6</td>\n",
       "      <td>BoW</td>\n",
       "    </tr>\n",
       "    <tr>\n",
       "      <td>7</td>\n",
       "      <td>BM25</td>\n",
       "    </tr>\n",
       "  </tbody>\n",
       "</table></div>\n",
       "    <div><table border=\"1\" class=\"dataframe\">\n",
       "  <thead>\n",
       "    <tr style=\"text-align: right;\">\n",
       "      <th>No.</th>\n",
       "      <th>Similarity and Distance Measures</th>\n",
       "    </tr>\n",
       "  </thead>\n",
       "  <tbody>\n",
       "    <tr>\n",
       "      <td>1</td>\n",
       "      <td>Cosine Similarity</td>\n",
       "    </tr>\n",
       "    <tr>\n",
       "      <td>2</td>\n",
       "      <td>Euclidean Distance</td>\n",
       "    </tr>\n",
       "    <tr>\n",
       "      <td>3</td>\n",
       "      <td>Jaccard Similarity</td>\n",
       "    </tr>\n",
       "    <tr>\n",
       "      <td>4</td>\n",
       "      <td>Manhattan Distance</td>\n",
       "    </tr>\n",
       "    <tr>\n",
       "      <td>5</td>\n",
       "      <td>Pearson Correlation</td>\n",
       "    </tr>\n",
       "    <tr>\n",
       "      <td>6</td>\n",
       "      <td>Hamming Distance</td>\n",
       "    </tr>\n",
       "  </tbody>\n",
       "</table></div>\n",
       "</div>\n"
      ],
      "text/plain": [
       "<IPython.core.display.HTML object>"
      ]
     },
     "metadata": {},
     "output_type": "display_data"
    }
   ],
   "source": [
    "f_ext = {\"Feature Extraction Methods\":[\"TF-IDF\", \"LSA\", \"Word2Vec\", \"Doc2Vec\", \"BERT\", \"BoW\", \"BM25\"]}\n",
    "sim_m = {\"Similarity and Distance Measures\":[\"Cosine Similarity\", \"Euclidean Distance\", \"Jaccard Similarity\", \"Manhattan Distance\", \"Pearson Correlation\", \"Hamming Distance\"]}\n",
    "d_ext = pd.DataFrame(f_ext); d_ext\n",
    "d_ext.insert(0, \"No.\", range(1, len(d_ext) + 1))\n",
    "d_sim = pd.DataFrame(sim_m); d_sim\n",
    "d_sim.insert(0, \"No.\", range(1, len(d_sim) + 1))\n",
    "\n",
    "display(HTML(f\"\"\"\n",
    "<div style=\"display: flex; justify-content: space-around;\">\n",
    "    <div>{d_ext.to_html(index=False)}</div>\n",
    "    <div>{d_sim.to_html(index=False)}</div>\n",
    "</div>\n",
    "\"\"\"))\n"
   ]
  },
  {
   "cell_type": "markdown",
   "id": "d729f94b-1f97-43d6-9bce-523e5744e897",
   "metadata": {},
   "source": [
    "### Evaluation Metrics/Properties:\n",
    "- Coverage\n",
    "- Confidence\n",
    "- Trust\n",
    "- Novelty\n",
    "- Serendipity\n",
    "- Diversity\n",
    "- Utility\n",
    "- Risk\n",
    "- Robustness\n",
    "- Privacy\n",
    "- Adaptability\n",
    "- Scalability\n"
   ]
  },
  {
   "cell_type": "code",
   "execution_count": null,
   "id": "a7a9d3fa-7671-4552-9acd-38ae0cc52340",
   "metadata": {},
   "outputs": [],
   "source": []
  },
  {
   "cell_type": "code",
   "execution_count": null,
   "id": "e7623bbd-be92-4618-9625-59d8ab719d10",
   "metadata": {},
   "outputs": [],
   "source": []
  },
  {
   "cell_type": "code",
   "execution_count": null,
   "id": "080ab094-7667-492c-946c-c9a5f0a14d9c",
   "metadata": {},
   "outputs": [],
   "source": []
  },
  {
   "cell_type": "code",
   "execution_count": null,
   "id": "80630da7-c120-424b-bd3d-67b68f73b96c",
   "metadata": {},
   "outputs": [],
   "source": []
  },
  {
   "cell_type": "code",
   "execution_count": null,
   "id": "2e7565a4-7f84-4ece-97f5-23dd5ded932a",
   "metadata": {},
   "outputs": [],
   "source": []
  },
  {
   "cell_type": "code",
   "execution_count": null,
   "id": "e18445c2-6176-4d6e-8d2d-54328114d63b",
   "metadata": {},
   "outputs": [],
   "source": []
  },
  {
   "cell_type": "code",
   "execution_count": null,
   "id": "6216e17e-b97a-4849-b4f1-950d55f4869a",
   "metadata": {},
   "outputs": [],
   "source": []
  },
  {
   "cell_type": "code",
   "execution_count": null,
   "id": "5e654681-2078-46b1-9a06-7b586d0bd509",
   "metadata": {},
   "outputs": [],
   "source": []
  },
  {
   "cell_type": "code",
   "execution_count": null,
   "id": "78da09d7-d4de-4333-b1ff-384089530af8",
   "metadata": {},
   "outputs": [],
   "source": []
  },
  {
   "cell_type": "code",
   "execution_count": null,
   "id": "99afe9da-9b05-4a3d-9824-32b26bbe3825",
   "metadata": {},
   "outputs": [],
   "source": []
  },
  {
   "cell_type": "code",
   "execution_count": null,
   "id": "1548b6e0-589a-456b-9654-102a21880bcd",
   "metadata": {},
   "outputs": [],
   "source": []
  },
  {
   "cell_type": "code",
   "execution_count": null,
   "id": "29063357-7ecb-48e6-a796-7e5d0849691a",
   "metadata": {},
   "outputs": [],
   "source": []
  }
 ],
 "metadata": {
  "kernelspec": {
   "display_name": "Python 3 (ipykernel)",
   "language": "python",
   "name": "python3"
  },
  "language_info": {
   "codemirror_mode": {
    "name": "ipython",
    "version": 3
   },
   "file_extension": ".py",
   "mimetype": "text/x-python",
   "name": "python",
   "nbconvert_exporter": "python",
   "pygments_lexer": "ipython3",
   "version": "3.12.7"
  }
 },
 "nbformat": 4,
 "nbformat_minor": 5
}
